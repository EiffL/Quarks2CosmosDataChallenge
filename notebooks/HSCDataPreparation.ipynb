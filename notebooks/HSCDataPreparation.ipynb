{
 "cells": [
  {
   "cell_type": "markdown",
   "metadata": {},
   "source": [
    "# Prepares dataset of HSC galaxies, PSFs and masks"
   ]
  },
  {
   "cell_type": "code",
   "execution_count": 1,
   "metadata": {},
   "outputs": [],
   "source": [
    "import h5py\n",
    "from astropy.table import Table\n",
    "import astropy.units as u\n",
    "from unagi import hsc\n",
    "from unagi import task"
   ]
  },
  {
   "cell_type": "code",
   "execution_count": 2,
   "metadata": {},
   "outputs": [
    {
     "name": "stderr",
     "output_type": "stream",
     "text": [
      "/local/home/flanusse/.local/lib/python3.8/site-packages/numpy/ma/core.py:2831: VisibleDeprecationWarning: Creating an ndarray from ragged nested sequences (which is a list-or-tuple of lists-or-tuples-or ndarrays with different lengths or shapes) is deprecated. If you meant to do this, you must specify 'dtype=object' when creating the ndarray\n",
      "  _data = np.array(data, dtype=dtype, copy=copy,\n"
     ]
    },
    {
     "name": "stdout",
     "output_type": "stream",
     "text": [
      "# Get table list from /local/home/flanusse/repo/unagi/unagi/data/pdr2_wide/pdr2_wide_tables.fits\n"
     ]
    }
   ],
   "source": [
    "# Define the HSC archive\n",
    "archive = hsc.Hsc(dr='pdr2', rerun='pdr2_wide')"
   ]
  },
  {
   "cell_type": "code",
   "execution_count": 3,
   "metadata": {},
   "outputs": [],
   "source": [
    "query_mask = ''\n",
    "-- Merge forced photometry and spectroscopic sample from HSC PDR 2 wide\n",
    "SELECT object_id, ra, dec, tract, patch,\n",
    "\t-- Absorption\n",
    "\ta_g, a_r, a_i, a_z, a_y,\n",
    "\t-- Extendedness\n",
    "\tg_extendedness_value, r_extendedness_value, i_extendedness_value, z_extendedness_value, y_extendedness_value,\n",
    "  -- Background Information\n",
    "  g_localbackground_flux, r_localbackground_flux, i_localbackground_flux, z_localbackground_flux, y_localbackground_flux,\n",
    "\t-- Magnitudes\n",
    "\tg_cmodel_mag, g_cmodel_magsigma, g_cmodel_exp_mag, g_cmodel_exp_magsigma, g_cmodel_dev_mag, g_cmodel_dev_magsigma,\n",
    "\tr_cmodel_mag, r_cmodel_magsigma, r_cmodel_exp_mag, r_cmodel_exp_magsigma, r_cmodel_dev_mag, r_cmodel_dev_magsigma,\n",
    "\ti_cmodel_mag, i_cmodel_magsigma, i_cmodel_exp_mag, i_cmodel_exp_magsigma, i_cmodel_dev_mag, i_cmodel_dev_magsigma,\n",
    "\tz_cmodel_mag, z_cmodel_magsigma, z_cmodel_exp_mag, z_cmodel_exp_magsigma, z_cmodel_dev_mag, z_cmodel_dev_magsigma,\n",
    "\ty_cmodel_mag, y_cmodel_magsigma, y_cmodel_exp_mag, y_cmodel_exp_magsigma, y_cmodel_dev_mag, y_cmodel_dev_magsigma\n",
    "\n",
    "FROM pdr2_wide.forced forced\n",
    "  LEFT JOIN pdr2_wide.forced2 USING (object_id)\n",
    "  LEFT JOIN pdr2_wide.forced3 USING (object_id)\n",
    "\n",
    "-- Applying some data quality cuts\n",
    "WHERE forced.isprimary\n",
    "AND forced.i_cmodel_mag < 23.5\n",
    "AND forced.i_cmodel_mag > 21\n",
    "-- Simple Full Depth Full Colour cuts: At least 3 exposures in each band\n",
    "AND forced.g_inputcount_value >= 3\n",
    "AND forced.r_inputcount_value >= 3\n",
    "AND forced.i_inputcount_value >= 3\n",
    "AND forced.z_inputcount_value >= 3\n",
    "AND forced.y_inputcount_value >= 3\n",
    "-- Remove objects affected by bright stars\n",
    "AND NOT forced.g_pixelflags_bright_objectcenter\n",
    "AND NOT forced.r_pixelflags_bright_objectcenter\n",
    "AND NOT forced.i_pixelflags_bright_objectcenter\n",
    "AND NOT forced.z_pixelflags_bright_objectcenter\n",
    "AND NOT forced.y_pixelflags_bright_objectcenter\n",
    "AND NOT forced.g_pixelflags_bright_object\n",
    "AND NOT forced.r_pixelflags_bright_object\n",
    "AND NOT forced.i_pixelflags_bright_object\n",
    "AND NOT forced.z_pixelflags_bright_object\n",
    "AND NOT forced.y_pixelflags_bright_object\n",
    "-- Remove objects intersecting edges\n",
    "AND NOT forced.g_pixelflags_edge\n",
    "AND NOT forced.r_pixelflags_edge\n",
    "AND NOT forced.i_pixelflags_edge\n",
    "AND NOT forced.z_pixelflags_edge\n",
    "AND NOT forced.y_pixelflags_edge\n",
    "-- Remove objects with saturated pixels\n",
    "AND NOT forced.g_pixelflags_saturatedcenter\n",
    "AND NOT forced.r_pixelflags_saturatedcenter\n",
    "AND NOT forced.i_pixelflags_saturatedcenter\n",
    "AND NOT forced.z_pixelflags_saturatedcenter\n",
    "AND NOT forced.y_pixelflags_saturatedcenter\n",
    "-- But force objects with interpolated pixels\n",
    "AND forced.i_pixelflags_interpolatedcenter\n",
    "-- Remove objects with generic cmodel fit failures\n",
    "AND NOT forced.g_cmodel_flag\n",
    "AND NOT forced.r_cmodel_flag\n",
    "AND NOT forced.i_cmodel_flag\n",
    "AND NOT forced.z_cmodel_flag\n",
    "AND NOT forced.y_cmodel_flag\n",
    "-- Sort by tract and patch for faster cutout query\n",
    "ORDER BY object_id\n",
    "LIMIT 10000\n",
    ";\n",
    "'''"
   ]
  },
  {
   "cell_type": "code",
   "execution_count": 5,
   "metadata": {},
   "outputs": [
    {
     "name": "stdout",
     "output_type": "stream",
     "text": [
      "Waiting for query to finish... [Done]\n"
     ]
    }
   ],
   "source": [
    "catalog = archive.sql_query(query_mask, from_file=False, verbose=True)"
   ]
  },
  {
   "cell_type": "code",
   "execution_count": 10,
   "metadata": {},
   "outputs": [],
   "source": [
    "catalog.write('catalog_masked_obj.fits')"
   ]
  },
  {
   "cell_type": "code",
   "execution_count": 12,
   "metadata": {},
   "outputs": [],
   "source": [
    "# Defining size of cutouts\n",
    "img_len = 42 / 2 # Size of cutouts in pixels\n",
    "cutout_size = 0.168*(img_len) # Size of cutouts in Arcsecs\n",
    "\n",
    "# Which filter we care about\n",
    "filters = ['HSC-I']\n",
    "\n",
    "tmp_dir='tmp_dir'\n",
    "out_dir='./'\n",
    "!mkdir -p tmp_dir"
   ]
  },
  {
   "cell_type": "code",
   "execution_count": 13,
   "metadata": {},
   "outputs": [
    {
     "name": "stdout",
     "output_type": "stream",
     "text": [
      "Starting download of 10 batches ...\n",
      "Download filter HSC-I for batch 1Download filter HSC-I for batch 0\n",
      "\n",
      "Download filter HSC-I for batch 2\n",
      "Download filter HSC-I for batch 1\n"
     ]
    },
    {
     "name": "stderr",
     "output_type": "stream",
     "text": [
      "WARNING: AstropyDeprecationWarning: tmp_dir/batch_HSC-I_1 already exists. Automatically overwriting ASCII files is deprecated. Use the argument 'overwrite=True' in the future. [astropy.io.ascii.ui]\n"
     ]
    },
    {
     "name": "stdout",
     "output_type": "stream",
     "text": [
      "Download filter HSC-I for batch 3\n",
      "Download filter HSC-I for batch 4\n",
      "Download filter HSC-I for batch 5\n",
      "Download filter HSC-I for batch 6\n",
      "Download filter HSC-I for batch 7\n",
      "Download filter HSC-I for batch 8\n",
      "Download filter HSC-I for batch 9\n",
      "Download finalized, aggregating cutouts.\n"
     ]
    }
   ],
   "source": [
    "# Extract the cutouts\n",
    "cutouts_filename = task.hsc_bulk_cutout(catalog, \n",
    "                                        cutout_size=cutout_size * u.Unit('arcsec'), \n",
    "                                        filters=filters, \n",
    "                                        archive=archive,  \n",
    "                                        nproc=2, # Download using 2 parallel jobs\n",
    "                                        tmp_dir=tmp_dir, \n",
    "                                        mask=True, variance=True,\n",
    "                                        output_dir=out_dir)"
   ]
  },
  {
   "cell_type": "code",
   "execution_count": 14,
   "metadata": {},
   "outputs": [
    {
     "name": "stdout",
     "output_type": "stream",
     "text": [
      "Starting download of 10 batches ...\n",
      "Download PSF for filter HSC-I for batch 0Download PSF for filter HSC-I for batch 1\n",
      "\n",
      "Found cutout file for batch file 1, skipping download\n",
      "Download PSF for filter HSC-I for batch 2\n",
      "Download PSF for filter HSC-I for batch 0\n"
     ]
    },
    {
     "name": "stderr",
     "output_type": "stream",
     "text": [
      "WARNING: AstropyDeprecationWarning: tmp_dir/batch_HSC-I_0 already exists. Automatically overwriting ASCII files is deprecated. Use the argument 'overwrite=True' in the future. [astropy.io.ascii.ui]\n"
     ]
    },
    {
     "name": "stdout",
     "output_type": "stream",
     "text": [
      "Download PSF for filter HSC-I for batch 3\n",
      "Download PSF for filter HSC-I for batch 4\n",
      "Download PSF for filter HSC-I for batch 5\n",
      "Download PSF for filter HSC-I for batch 6\n",
      "Download PSF for filter HSC-I for batch 7\n",
      "Download PSF for filter HSC-I for batch 8\n",
      "Download PSF for filter HSC-I for batch 9\n",
      "Download finalized, aggregating cutouts.\n"
     ]
    }
   ],
   "source": [
    "# Extract the PSFs for all these objects\n",
    "psfs_filename = task.hsc_bulk_psf(catalog, filters=filters, \n",
    "                                  archive=archive,  \n",
    "                                  nproc=2, tmp_dir=tmp_dir,\n",
    "                                  output_dir=out_dir)"
   ]
  },
  {
   "cell_type": "code",
   "execution_count": 15,
   "metadata": {},
   "outputs": [
    {
     "data": {
      "text/plain": [
       "('./cutouts_pdr2_wide_coadd.hdf', './psfs_pdr2_wide_coadd.hdf')"
      ]
     },
     "execution_count": 15,
     "metadata": {},
     "output_type": "execute_result"
    }
   ],
   "source": [
    "cutouts_filename, psfs_filename"
   ]
  },
  {
   "cell_type": "code",
   "execution_count": null,
   "metadata": {},
   "outputs": [],
   "source": []
  }
 ],
 "metadata": {
  "kernelspec": {
   "display_name": "Python 3",
   "language": "python",
   "name": "python3"
  },
  "language_info": {
   "codemirror_mode": {
    "name": "ipython",
    "version": 3
   },
   "file_extension": ".py",
   "mimetype": "text/x-python",
   "name": "python",
   "nbconvert_exporter": "python",
   "pygments_lexer": "ipython3",
   "version": "3.8.3"
  }
 },
 "nbformat": 4,
 "nbformat_minor": 4
}
